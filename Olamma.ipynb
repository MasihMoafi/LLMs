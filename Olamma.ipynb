{
 "cells": [
  {
   "cell_type": "code",
   "execution_count": 5,
   "id": "3017f77e-70ce-4ba3-90bf-7f8249f6cd9c",
   "metadata": {},
   "outputs": [],
   "source": [
    "#Disable Proxy\n",
    "\n",
    "import os\n",
    "\n",
    "def clear_proxy_settings():\n",
    "    for var in [\"HTTP_PROXY\", \"HTTPS_PROXY\", \"ALL_PROXY\", \"http_proxy\", \"https_proxy\", \"all_proxy\"]:\n",
    "        if var in os.environ:\n",
    "            del os.environ[var]\n",
    "\n",
    "clear_proxy_settings()"
   ]
  },
  {
   "cell_type": "code",
   "execution_count": 7,
   "id": "4a9af061-57d3-4cf2-ad0d-e8195bd1748e",
   "metadata": {},
   "outputs": [
    {
     "name": "stdout",
     "output_type": "stream",
     "text": [
      "Hi there! I’m doing great today – as well as a large language model can be, of course! 😊 \n",
      "\n",
      "How are *you* doing today? Is there anything I can help you with, or were you just saying hello?\n"
     ]
    }
   ],
   "source": [
    "from ollama import chat\n",
    "\n",
    "# Model configurations\n",
    "LLM_MODEL = 'gemma3'\n",
    "\n",
    "def generate_response(prompt):\n",
    "    \"\"\"Generate response using specified LLM model\"\"\"\n",
    "    response = chat(model=LLM_MODEL, messages=[{'role': 'user', 'content': prompt}])\n",
    "    return response['message']['content']\n",
    "\n",
    "# Example usage\n",
    "if __name__ == \"__main__\":\n",
    "    response = generate_response(\"Hello, how are you?\")\n",
    "    print(response) "
   ]
  },
  {
   "cell_type": "code",
   "execution_count": null,
   "id": "38a72959-34ec-42a1-af41-1c0f775228dc",
   "metadata": {},
   "outputs": [],
   "source": []
  }
 ],
 "metadata": {
  "kernelspec": {
   "display_name": "Python [conda env:base] *",
   "language": "python",
   "name": "conda-base-py"
  },
  "language_info": {
   "codemirror_mode": {
    "name": "ipython",
    "version": 3
   },
   "file_extension": ".py",
   "mimetype": "text/x-python",
   "name": "python",
   "nbconvert_exporter": "python",
   "pygments_lexer": "ipython3",
   "version": "3.12.3"
  }
 },
 "nbformat": 4,
 "nbformat_minor": 5
}
